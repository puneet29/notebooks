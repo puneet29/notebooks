{
 "cells": [
  {
   "cell_type": "markdown",
   "metadata": {},
   "source": [
    "## Recap"
   ]
  },
  {
   "cell_type": "code",
   "execution_count": 1,
   "metadata": {},
   "outputs": [],
   "source": [
    "import torch\n",
    "\n",
    "def get_parallel_db(db, remove_index):\n",
    "    return(torch.cat((db[:remove_index], db[remove_index+1:])))\n",
    "\n",
    "def get_parallel_dbs(db):\n",
    "\n",
    "    pdbs = []\n",
    "\n",
    "    for i in range(len(db)):\n",
    "        pdbs.append(get_parallel_db(db, i))\n",
    "\n",
    "    return(pdbs)\n",
    "\n",
    "def create_db_and_parallel_dbs(num_entries):\n",
    "    \n",
    "    db = torch.rand(num_entries) > 0.5\n",
    "    pdbs = get_parallel_dbs(db)\n",
    "    \n",
    "    return(db, pdbs)"
   ]
  },
  {
   "cell_type": "code",
   "execution_count": 2,
   "metadata": {},
   "outputs": [],
   "source": [
    "def sensitivity(query, num_entries=1000):\n",
    "\n",
    "    db, pdbs = create_db_and_parallel_dbs(num_entries)\n",
    "\n",
    "    full_db_result = query(db)\n",
    "\n",
    "    max_distance = 0\n",
    "    for pdb in pdbs:\n",
    "        pdb_result = query(pdb)\n",
    "\n",
    "        db_distance = torch.abs(pdb_result - full_db_result)\n",
    "\n",
    "        if(db_distance>max_distance):\n",
    "            max_distance = db_distance\n",
    "\n",
    "    return(max_distance)"
   ]
  },
  {
   "cell_type": "markdown",
   "metadata": {},
   "source": [
    "## Building a query function for threshold"
   ]
  },
  {
   "cell_type": "code",
   "execution_count": 9,
   "metadata": {},
   "outputs": [],
   "source": [
    "def query(db, threshold=5):\n",
    "    return((db.sum() > threshold).float())"
   ]
  },
  {
   "cell_type": "code",
   "execution_count": 10,
   "metadata": {},
   "outputs": [
    {
     "name": "stdout",
     "output_type": "stream",
     "text": [
      "Sensitivity of db 1 is tensor(1.)\n",
      "Sensitivity of db 2 is 0\n",
      "Sensitivity of db 3 is 0\n",
      "Sensitivity of db 4 is tensor(1.)\n",
      "Sensitivity of db 5 is 0\n",
      "Sensitivity of db 6 is tensor(1.)\n",
      "Sensitivity of db 7 is 0\n",
      "Sensitivity of db 8 is 0\n",
      "Sensitivity of db 9 is 0\n",
      "Sensitivity of db 10 is 0\n"
     ]
    }
   ],
   "source": [
    "for i in range(10):\n",
    "    print(\"Sensitivity of db\", i+1, \"is\", sensitivity(query, 10))"
   ]
  },
  {
   "cell_type": "markdown",
   "metadata": {},
   "source": [
    "### Takeaway\n",
    "\n",
    "The sensitivity of the query is variable for the databases, however sum and mean queries had the same sensitivity for any database. The intuition here is that the database might have 6 or more than 6 entries of 1 resulting in return of 1. This will change for each database as they are randomly generated, however if the sum query was checked for any such database the result would've been 1."
   ]
  },
  {
   "cell_type": "code",
   "execution_count": null,
   "metadata": {},
   "outputs": [],
   "source": []
  }
 ],
 "metadata": {
  "kernelspec": {
   "display_name": "Python 3",
   "language": "python",
   "name": "python3"
  },
  "language_info": {
   "codemirror_mode": {
    "name": "ipython",
    "version": 3
   },
   "file_extension": ".py",
   "mimetype": "text/x-python",
   "name": "python",
   "nbconvert_exporter": "python",
   "pygments_lexer": "ipython3",
   "version": "3.7.3"
  }
 },
 "nbformat": 4,
 "nbformat_minor": 2
}
