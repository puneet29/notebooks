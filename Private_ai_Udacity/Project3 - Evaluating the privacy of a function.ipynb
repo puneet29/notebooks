{
 "cells": [
  {
   "cell_type": "markdown",
   "metadata": {},
   "source": [
    "# Building a function to calculate the sensitivity"
   ]
  },
  {
   "cell_type": "markdown",
   "metadata": {},
   "source": [
    "## Recap"
   ]
  },
  {
   "cell_type": "code",
   "execution_count": 1,
   "metadata": {},
   "outputs": [],
   "source": [
    "import torch\n",
    "\n",
    "def get_parallel_db(db, remove_index):\n",
    "    return(torch.cat((db[:remove_index], db[remove_index+1:])))\n",
    "\n",
    "def get_parallel_dbs(db):\n",
    "\n",
    "    pdbs = []\n",
    "\n",
    "    for i in range(len(db)):\n",
    "        pdbs.append(get_parallel_db(db, i))\n",
    "\n",
    "    return(pdbs)\n",
    "\n",
    "def create_db_and_parallel_dbs(num_entries):\n",
    "    \n",
    "    db = torch.rand(num_entries) > 0.5\n",
    "    pdbs = get_parallel_dbs(db)\n",
    "    \n",
    "    return(db, pdbs)"
   ]
  },
  {
   "cell_type": "markdown",
   "metadata": {},
   "source": [
    "## Building the actual function"
   ]
  },
  {
   "cell_type": "code",
   "execution_count": 2,
   "metadata": {},
   "outputs": [],
   "source": [
    "def sensitivity(query, num_entries=1000):\n",
    "\n",
    "    db, pdbs = create_db_and_parallel_dbs(num_entries)\n",
    "\n",
    "    full_db_result = query(db)\n",
    "\n",
    "    max_distance = 0\n",
    "    for pdb in pdbs:\n",
    "        pdb_result = query(pdb)\n",
    "\n",
    "        db_distance = torch.abs(pdb_result - full_db_result)\n",
    "\n",
    "        if(db_distance>max_distance):\n",
    "            max_distance = db_distance\n",
    "\n",
    "    return(max_distance)"
   ]
  },
  {
   "cell_type": "code",
   "execution_count": 3,
   "metadata": {},
   "outputs": [
    {
     "name": "stdout",
     "output_type": "stream",
     "text": [
      "tensor(1)\n"
     ]
    }
   ],
   "source": [
    "# Calculate the sensitivity of sum function(Testing)\n",
    "\n",
    "def sumQuery(db):\n",
    "    return(db.sum())\n",
    "\n",
    "print(sensitivity(sumQuery))"
   ]
  },
  {
   "cell_type": "markdown",
   "metadata": {},
   "source": [
    "## Let's check out the sensitivity for the mean query"
   ]
  },
  {
   "cell_type": "code",
   "execution_count": 4,
   "metadata": {},
   "outputs": [],
   "source": [
    "def query(db):\n",
    "    return(db.float().mean())"
   ]
  },
  {
   "cell_type": "code",
   "execution_count": 5,
   "metadata": {},
   "outputs": [
    {
     "name": "stdout",
     "output_type": "stream",
     "text": [
      "tensor(0.0005)\n"
     ]
    }
   ],
   "source": [
    "print(sensitivity(query))"
   ]
  },
  {
   "cell_type": "markdown",
   "metadata": {},
   "source": [
    "### Inference\n",
    "\n",
    "The sensitivity of the query decreases by a lot because we are dividing it by the number of entries in the database. This corresponds to the average value in the database. (0.5/1000)"
   ]
  },
  {
   "cell_type": "code",
   "execution_count": null,
   "metadata": {},
   "outputs": [],
   "source": []
  }
 ],
 "metadata": {
  "kernelspec": {
   "display_name": "Python 3",
   "language": "python",
   "name": "python3"
  },
  "language_info": {
   "codemirror_mode": {
    "name": "ipython",
    "version": 3
   },
   "file_extension": ".py",
   "mimetype": "text/x-python",
   "name": "python",
   "nbconvert_exporter": "python",
   "pygments_lexer": "ipython3",
   "version": "3.7.3"
  }
 },
 "nbformat": 4,
 "nbformat_minor": 2
}
