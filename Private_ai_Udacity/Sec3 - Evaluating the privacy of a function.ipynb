{
 "cells": [
  {
   "cell_type": "markdown",
   "metadata": {},
   "source": [
    "## Creating simple database"
   ]
  },
  {
   "cell_type": "code",
   "execution_count": 1,
   "metadata": {},
   "outputs": [],
   "source": [
    "import torch"
   ]
  },
  {
   "cell_type": "code",
   "execution_count": 2,
   "metadata": {},
   "outputs": [],
   "source": [
    "def get_parallel_db(db, remove_index):\n",
    "    return(torch.cat((db[:remove_index], db[remove_index+1:])))"
   ]
  },
  {
   "cell_type": "code",
   "execution_count": 3,
   "metadata": {},
   "outputs": [],
   "source": [
    "def get_parallel_dbs(db):\n",
    "\n",
    "    pdbs = []\n",
    "\n",
    "    for i in range(len(db)):\n",
    "        pdbs.append(get_parallel_db(db, i))\n",
    "\n",
    "    return(pdbs)"
   ]
  },
  {
   "cell_type": "code",
   "execution_count": 4,
   "metadata": {},
   "outputs": [],
   "source": [
    "def create_db_and_parallel_dbs(num_entries):\n",
    "    \n",
    "    db = torch.rand(num_entries) > 0.5\n",
    "    pdbs = get_parallel_dbs(db)\n",
    "    \n",
    "    return(db, pdbs)"
   ]
  },
  {
   "cell_type": "code",
   "execution_count": 11,
   "metadata": {},
   "outputs": [],
   "source": [
    "db, pdbs = create_db_and_parallel_dbs(20)"
   ]
  },
  {
   "cell_type": "code",
   "execution_count": 12,
   "metadata": {},
   "outputs": [
    {
     "data": {
      "text/plain": [
       "tensor([1, 1, 0, 0, 0, 0, 1, 1, 0, 0, 0, 1, 0, 0, 1, 0, 1, 0, 1, 0],\n",
       "       dtype=torch.uint8)"
      ]
     },
     "execution_count": 12,
     "metadata": {},
     "output_type": "execute_result"
    }
   ],
   "source": [
    "db"
   ]
  },
  {
   "cell_type": "code",
   "execution_count": 13,
   "metadata": {},
   "outputs": [
    {
     "data": {
      "text/plain": [
       "[tensor([1, 0, 0, 0, 0, 1, 1, 0, 0, 0, 1, 0, 0, 1, 0, 1, 0, 1, 0],\n",
       "        dtype=torch.uint8),\n",
       " tensor([1, 0, 0, 0, 0, 1, 1, 0, 0, 0, 1, 0, 0, 1, 0, 1, 0, 1, 0],\n",
       "        dtype=torch.uint8),\n",
       " tensor([1, 1, 0, 0, 0, 1, 1, 0, 0, 0, 1, 0, 0, 1, 0, 1, 0, 1, 0],\n",
       "        dtype=torch.uint8),\n",
       " tensor([1, 1, 0, 0, 0, 1, 1, 0, 0, 0, 1, 0, 0, 1, 0, 1, 0, 1, 0],\n",
       "        dtype=torch.uint8),\n",
       " tensor([1, 1, 0, 0, 0, 1, 1, 0, 0, 0, 1, 0, 0, 1, 0, 1, 0, 1, 0],\n",
       "        dtype=torch.uint8),\n",
       " tensor([1, 1, 0, 0, 0, 1, 1, 0, 0, 0, 1, 0, 0, 1, 0, 1, 0, 1, 0],\n",
       "        dtype=torch.uint8),\n",
       " tensor([1, 1, 0, 0, 0, 0, 1, 0, 0, 0, 1, 0, 0, 1, 0, 1, 0, 1, 0],\n",
       "        dtype=torch.uint8),\n",
       " tensor([1, 1, 0, 0, 0, 0, 1, 0, 0, 0, 1, 0, 0, 1, 0, 1, 0, 1, 0],\n",
       "        dtype=torch.uint8),\n",
       " tensor([1, 1, 0, 0, 0, 0, 1, 1, 0, 0, 1, 0, 0, 1, 0, 1, 0, 1, 0],\n",
       "        dtype=torch.uint8),\n",
       " tensor([1, 1, 0, 0, 0, 0, 1, 1, 0, 0, 1, 0, 0, 1, 0, 1, 0, 1, 0],\n",
       "        dtype=torch.uint8),\n",
       " tensor([1, 1, 0, 0, 0, 0, 1, 1, 0, 0, 1, 0, 0, 1, 0, 1, 0, 1, 0],\n",
       "        dtype=torch.uint8),\n",
       " tensor([1, 1, 0, 0, 0, 0, 1, 1, 0, 0, 0, 0, 0, 1, 0, 1, 0, 1, 0],\n",
       "        dtype=torch.uint8),\n",
       " tensor([1, 1, 0, 0, 0, 0, 1, 1, 0, 0, 0, 1, 0, 1, 0, 1, 0, 1, 0],\n",
       "        dtype=torch.uint8),\n",
       " tensor([1, 1, 0, 0, 0, 0, 1, 1, 0, 0, 0, 1, 0, 1, 0, 1, 0, 1, 0],\n",
       "        dtype=torch.uint8),\n",
       " tensor([1, 1, 0, 0, 0, 0, 1, 1, 0, 0, 0, 1, 0, 0, 0, 1, 0, 1, 0],\n",
       "        dtype=torch.uint8),\n",
       " tensor([1, 1, 0, 0, 0, 0, 1, 1, 0, 0, 0, 1, 0, 0, 1, 1, 0, 1, 0],\n",
       "        dtype=torch.uint8),\n",
       " tensor([1, 1, 0, 0, 0, 0, 1, 1, 0, 0, 0, 1, 0, 0, 1, 0, 0, 1, 0],\n",
       "        dtype=torch.uint8),\n",
       " tensor([1, 1, 0, 0, 0, 0, 1, 1, 0, 0, 0, 1, 0, 0, 1, 0, 1, 1, 0],\n",
       "        dtype=torch.uint8),\n",
       " tensor([1, 1, 0, 0, 0, 0, 1, 1, 0, 0, 0, 1, 0, 0, 1, 0, 1, 0, 0],\n",
       "        dtype=torch.uint8),\n",
       " tensor([1, 1, 0, 0, 0, 0, 1, 1, 0, 0, 0, 1, 0, 0, 1, 0, 1, 0, 1],\n",
       "        dtype=torch.uint8)]"
      ]
     },
     "execution_count": 13,
     "metadata": {},
     "output_type": "execute_result"
    }
   ],
   "source": [
    "pdbs"
   ]
  },
  {
   "cell_type": "markdown",
   "metadata": {},
   "source": [
    "## Making a query function\n",
    "\n",
    "We will build a simple query function which sums up the database."
   ]
  },
  {
   "cell_type": "code",
   "execution_count": 14,
   "metadata": {},
   "outputs": [],
   "source": [
    "def query(db):\n",
    "    return(db.sum())"
   ]
  },
  {
   "cell_type": "code",
   "execution_count": 15,
   "metadata": {},
   "outputs": [
    {
     "data": {
      "text/plain": [
       "tensor(8)"
      ]
     },
     "execution_count": 15,
     "metadata": {},
     "output_type": "execute_result"
    }
   ],
   "source": [
    "query(db)"
   ]
  },
  {
   "cell_type": "markdown",
   "metadata": {},
   "source": [
    "### Now let's check the same for the parallel databases"
   ]
  },
  {
   "cell_type": "code",
   "execution_count": 16,
   "metadata": {},
   "outputs": [
    {
     "name": "stdout",
     "output_type": "stream",
     "text": [
      "For parallel database 0 query output is tensor(7)\n",
      "For parallel database 1 query output is tensor(7)\n",
      "For parallel database 2 query output is tensor(8)\n",
      "For parallel database 3 query output is tensor(8)\n",
      "For parallel database 4 query output is tensor(8)\n",
      "For parallel database 5 query output is tensor(8)\n",
      "For parallel database 6 query output is tensor(7)\n",
      "For parallel database 7 query output is tensor(7)\n",
      "For parallel database 8 query output is tensor(8)\n",
      "For parallel database 9 query output is tensor(8)\n",
      "For parallel database 10 query output is tensor(8)\n",
      "For parallel database 11 query output is tensor(7)\n",
      "For parallel database 12 query output is tensor(8)\n",
      "For parallel database 13 query output is tensor(8)\n",
      "For parallel database 14 query output is tensor(7)\n",
      "For parallel database 15 query output is tensor(8)\n",
      "For parallel database 16 query output is tensor(7)\n",
      "For parallel database 17 query output is tensor(8)\n",
      "For parallel database 18 query output is tensor(7)\n",
      "For parallel database 19 query output is tensor(8)\n"
     ]
    }
   ],
   "source": [
    "for i in range(len(pdbs)):\n",
    "    print(\"For parallel database\", i, \"query output is\", query(pdbs[i]))"
   ]
  },
  {
   "cell_type": "markdown",
   "metadata": {},
   "source": [
    "### Inference\n",
    "As it can be seen from above observation that the query has different result for different parallel databases. Therefore the output of this query depends highly on the information from a lot of people in this database.\n",
    "\n",
    "Let's check out the maximum amount that this query changes for full database."
   ]
  },
  {
   "cell_type": "code",
   "execution_count": 17,
   "metadata": {},
   "outputs": [
    {
     "name": "stdout",
     "output_type": "stream",
     "text": [
      "tensor(1)\n"
     ]
    }
   ],
   "source": [
    "full_db_result = query(db)\n",
    "\n",
    "max_distance = 0\n",
    "for pdb in pdbs:\n",
    "    pdb_result = query(pdb)\n",
    "    \n",
    "    db_distance = torch.abs(pdb_result - full_db_result)\n",
    "    \n",
    "    if(db_distance>max_distance):\n",
    "        max_distance = db_distance\n",
    "\n",
    "print(max_distance)"
   ]
  },
  {
   "cell_type": "markdown",
   "metadata": {},
   "source": [
    "### Takeaway\n",
    "\n",
    "We can change the size of our database and still see that the empirical sensitivity or in our case max distance remains the same, i.e, 1. This is because if we think about it, we have a binary database and while summing up the database which doesn't contain just one entry(possibly, 0 or 1) will be off by 1 at max."
   ]
  }
 ],
 "metadata": {
  "kernelspec": {
   "display_name": "Python 3",
   "language": "python",
   "name": "python3"
  },
  "language_info": {
   "codemirror_mode": {
    "name": "ipython",
    "version": 3
   },
   "file_extension": ".py",
   "mimetype": "text/x-python",
   "name": "python",
   "nbconvert_exporter": "python",
   "pygments_lexer": "ipython3",
   "version": "3.7.3"
  }
 },
 "nbformat": 4,
 "nbformat_minor": 2
}
